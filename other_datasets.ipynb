{
 "cells": [
  {
   "cell_type": "code",
   "execution_count": 98,
   "metadata": {
    "collapsed": true
   },
   "outputs": [],
   "source": [
    "# step-1\n",
    "from sklearn.linear_model import LinearRegression\n",
    "from sklearn.preprocessing import LabelEncoder\n",
    "import statsmodels.formula.api as smf\n",
    "from sklearn import preprocessing\n",
    "import matplotlib.pyplot as plt\n",
    "import seaborn as sns\n",
    "import pandas as pd\n",
    "import numpy as np\n",
    "import pandas"
   ]
  },
  {
   "cell_type": "code",
   "execution_count": 99,
   "metadata": {},
   "outputs": [
    {
     "data": {
      "text/html": [
       "<div>\n",
       "<style scoped>\n",
       "    .dataframe tbody tr th:only-of-type {\n",
       "        vertical-align: middle;\n",
       "    }\n",
       "\n",
       "    .dataframe tbody tr th {\n",
       "        vertical-align: top;\n",
       "    }\n",
       "\n",
       "    .dataframe thead th {\n",
       "        text-align: right;\n",
       "    }\n",
       "</style>\n",
       "<table border=\"1\" class=\"dataframe\">\n",
       "  <thead>\n",
       "    <tr style=\"text-align: right;\">\n",
       "      <th></th>\n",
       "      <th>YEAR</th>\n",
       "      <th>MO</th>\n",
       "      <th>DY</th>\n",
       "      <th>HR</th>\n",
       "      <th>ALLSKY_SFC_SW_DWN</th>\n",
       "      <th>CLRSKY_SFC_SW_DWN</th>\n",
       "      <th>ALLSKY_KT</th>\n",
       "      <th>ALLSKY_SRF_ALB</th>\n",
       "      <th>SZA</th>\n",
       "      <th>ALLSKY_SFC_PAR_TOT</th>\n",
       "      <th>...</th>\n",
       "      <th>ALLSKY_SFC_UVA</th>\n",
       "      <th>ALLSKY_SFC_UVB</th>\n",
       "      <th>ALLSKY_SFC_UV_INDEX</th>\n",
       "      <th>T2M</th>\n",
       "      <th>QV2M</th>\n",
       "      <th>RH2M</th>\n",
       "      <th>PRECTOTCORR</th>\n",
       "      <th>PS</th>\n",
       "      <th>WS10M</th>\n",
       "      <th>WS50M</th>\n",
       "    </tr>\n",
       "  </thead>\n",
       "  <tbody>\n",
       "    <tr>\n",
       "      <th>0</th>\n",
       "      <td>2017</td>\n",
       "      <td>1</td>\n",
       "      <td>1</td>\n",
       "      <td>0</td>\n",
       "      <td>0.0</td>\n",
       "      <td>0.0</td>\n",
       "      <td>-999.0</td>\n",
       "      <td>-999.0</td>\n",
       "      <td>90.0</td>\n",
       "      <td>0.0</td>\n",
       "      <td>...</td>\n",
       "      <td>0.0</td>\n",
       "      <td>0.0</td>\n",
       "      <td>0.0</td>\n",
       "      <td>12.05</td>\n",
       "      <td>4.82</td>\n",
       "      <td>54.31</td>\n",
       "      <td>0.0</td>\n",
       "      <td>98.34</td>\n",
       "      <td>2.89</td>\n",
       "      <td>5.63</td>\n",
       "    </tr>\n",
       "    <tr>\n",
       "      <th>1</th>\n",
       "      <td>2017</td>\n",
       "      <td>1</td>\n",
       "      <td>1</td>\n",
       "      <td>1</td>\n",
       "      <td>0.0</td>\n",
       "      <td>0.0</td>\n",
       "      <td>-999.0</td>\n",
       "      <td>-999.0</td>\n",
       "      <td>90.0</td>\n",
       "      <td>0.0</td>\n",
       "      <td>...</td>\n",
       "      <td>0.0</td>\n",
       "      <td>0.0</td>\n",
       "      <td>0.0</td>\n",
       "      <td>11.58</td>\n",
       "      <td>4.88</td>\n",
       "      <td>56.19</td>\n",
       "      <td>0.0</td>\n",
       "      <td>98.31</td>\n",
       "      <td>2.65</td>\n",
       "      <td>5.07</td>\n",
       "    </tr>\n",
       "    <tr>\n",
       "      <th>2</th>\n",
       "      <td>2017</td>\n",
       "      <td>1</td>\n",
       "      <td>1</td>\n",
       "      <td>2</td>\n",
       "      <td>0.0</td>\n",
       "      <td>0.0</td>\n",
       "      <td>-999.0</td>\n",
       "      <td>-999.0</td>\n",
       "      <td>90.0</td>\n",
       "      <td>0.0</td>\n",
       "      <td>...</td>\n",
       "      <td>0.0</td>\n",
       "      <td>0.0</td>\n",
       "      <td>0.0</td>\n",
       "      <td>11.21</td>\n",
       "      <td>4.88</td>\n",
       "      <td>57.69</td>\n",
       "      <td>0.0</td>\n",
       "      <td>98.30</td>\n",
       "      <td>2.34</td>\n",
       "      <td>4.28</td>\n",
       "    </tr>\n",
       "    <tr>\n",
       "      <th>3</th>\n",
       "      <td>2017</td>\n",
       "      <td>1</td>\n",
       "      <td>1</td>\n",
       "      <td>3</td>\n",
       "      <td>0.0</td>\n",
       "      <td>0.0</td>\n",
       "      <td>-999.0</td>\n",
       "      <td>-999.0</td>\n",
       "      <td>90.0</td>\n",
       "      <td>0.0</td>\n",
       "      <td>...</td>\n",
       "      <td>0.0</td>\n",
       "      <td>0.0</td>\n",
       "      <td>0.0</td>\n",
       "      <td>10.82</td>\n",
       "      <td>4.88</td>\n",
       "      <td>59.12</td>\n",
       "      <td>0.0</td>\n",
       "      <td>98.31</td>\n",
       "      <td>2.00</td>\n",
       "      <td>3.48</td>\n",
       "    </tr>\n",
       "    <tr>\n",
       "      <th>4</th>\n",
       "      <td>2017</td>\n",
       "      <td>1</td>\n",
       "      <td>1</td>\n",
       "      <td>4</td>\n",
       "      <td>0.0</td>\n",
       "      <td>0.0</td>\n",
       "      <td>-999.0</td>\n",
       "      <td>-999.0</td>\n",
       "      <td>90.0</td>\n",
       "      <td>0.0</td>\n",
       "      <td>...</td>\n",
       "      <td>0.0</td>\n",
       "      <td>0.0</td>\n",
       "      <td>0.0</td>\n",
       "      <td>10.41</td>\n",
       "      <td>4.88</td>\n",
       "      <td>60.62</td>\n",
       "      <td>0.0</td>\n",
       "      <td>98.32</td>\n",
       "      <td>1.73</td>\n",
       "      <td>2.94</td>\n",
       "    </tr>\n",
       "    <tr>\n",
       "      <th>...</th>\n",
       "      <td>...</td>\n",
       "      <td>...</td>\n",
       "      <td>...</td>\n",
       "      <td>...</td>\n",
       "      <td>...</td>\n",
       "      <td>...</td>\n",
       "      <td>...</td>\n",
       "      <td>...</td>\n",
       "      <td>...</td>\n",
       "      <td>...</td>\n",
       "      <td>...</td>\n",
       "      <td>...</td>\n",
       "      <td>...</td>\n",
       "      <td>...</td>\n",
       "      <td>...</td>\n",
       "      <td>...</td>\n",
       "      <td>...</td>\n",
       "      <td>...</td>\n",
       "      <td>...</td>\n",
       "      <td>...</td>\n",
       "      <td>...</td>\n",
       "    </tr>\n",
       "    <tr>\n",
       "      <th>35083</th>\n",
       "      <td>2021</td>\n",
       "      <td>1</td>\n",
       "      <td>1</td>\n",
       "      <td>19</td>\n",
       "      <td>0.0</td>\n",
       "      <td>0.0</td>\n",
       "      <td>-999.0</td>\n",
       "      <td>-999.0</td>\n",
       "      <td>90.0</td>\n",
       "      <td>0.0</td>\n",
       "      <td>...</td>\n",
       "      <td>0.0</td>\n",
       "      <td>0.0</td>\n",
       "      <td>0.0</td>\n",
       "      <td>12.31</td>\n",
       "      <td>3.36</td>\n",
       "      <td>37.38</td>\n",
       "      <td>0.0</td>\n",
       "      <td>98.50</td>\n",
       "      <td>2.89</td>\n",
       "      <td>4.95</td>\n",
       "    </tr>\n",
       "    <tr>\n",
       "      <th>35084</th>\n",
       "      <td>2021</td>\n",
       "      <td>1</td>\n",
       "      <td>1</td>\n",
       "      <td>20</td>\n",
       "      <td>0.0</td>\n",
       "      <td>0.0</td>\n",
       "      <td>-999.0</td>\n",
       "      <td>-999.0</td>\n",
       "      <td>90.0</td>\n",
       "      <td>0.0</td>\n",
       "      <td>...</td>\n",
       "      <td>0.0</td>\n",
       "      <td>0.0</td>\n",
       "      <td>0.0</td>\n",
       "      <td>11.62</td>\n",
       "      <td>3.36</td>\n",
       "      <td>39.12</td>\n",
       "      <td>0.0</td>\n",
       "      <td>98.51</td>\n",
       "      <td>3.05</td>\n",
       "      <td>5.42</td>\n",
       "    </tr>\n",
       "    <tr>\n",
       "      <th>35085</th>\n",
       "      <td>2021</td>\n",
       "      <td>1</td>\n",
       "      <td>1</td>\n",
       "      <td>21</td>\n",
       "      <td>0.0</td>\n",
       "      <td>0.0</td>\n",
       "      <td>-999.0</td>\n",
       "      <td>-999.0</td>\n",
       "      <td>90.0</td>\n",
       "      <td>0.0</td>\n",
       "      <td>...</td>\n",
       "      <td>0.0</td>\n",
       "      <td>0.0</td>\n",
       "      <td>0.0</td>\n",
       "      <td>11.08</td>\n",
       "      <td>3.42</td>\n",
       "      <td>40.56</td>\n",
       "      <td>0.0</td>\n",
       "      <td>98.51</td>\n",
       "      <td>3.21</td>\n",
       "      <td>5.94</td>\n",
       "    </tr>\n",
       "    <tr>\n",
       "      <th>35086</th>\n",
       "      <td>2021</td>\n",
       "      <td>1</td>\n",
       "      <td>1</td>\n",
       "      <td>22</td>\n",
       "      <td>0.0</td>\n",
       "      <td>0.0</td>\n",
       "      <td>-999.0</td>\n",
       "      <td>-999.0</td>\n",
       "      <td>90.0</td>\n",
       "      <td>0.0</td>\n",
       "      <td>...</td>\n",
       "      <td>0.0</td>\n",
       "      <td>0.0</td>\n",
       "      <td>0.0</td>\n",
       "      <td>10.68</td>\n",
       "      <td>3.36</td>\n",
       "      <td>41.50</td>\n",
       "      <td>0.0</td>\n",
       "      <td>98.49</td>\n",
       "      <td>3.29</td>\n",
       "      <td>6.32</td>\n",
       "    </tr>\n",
       "    <tr>\n",
       "      <th>35087</th>\n",
       "      <td>2021</td>\n",
       "      <td>1</td>\n",
       "      <td>1</td>\n",
       "      <td>23</td>\n",
       "      <td>0.0</td>\n",
       "      <td>0.0</td>\n",
       "      <td>-999.0</td>\n",
       "      <td>-999.0</td>\n",
       "      <td>90.0</td>\n",
       "      <td>0.0</td>\n",
       "      <td>...</td>\n",
       "      <td>0.0</td>\n",
       "      <td>0.0</td>\n",
       "      <td>0.0</td>\n",
       "      <td>10.34</td>\n",
       "      <td>3.36</td>\n",
       "      <td>41.94</td>\n",
       "      <td>0.0</td>\n",
       "      <td>98.47</td>\n",
       "      <td>3.28</td>\n",
       "      <td>6.49</td>\n",
       "    </tr>\n",
       "  </tbody>\n",
       "</table>\n",
       "<p>35088 rows × 21 columns</p>\n",
       "</div>"
      ],
      "text/plain": [
       "       YEAR  MO  DY  HR  ALLSKY_SFC_SW_DWN  CLRSKY_SFC_SW_DWN  ALLSKY_KT  \\\n",
       "0      2017   1   1   0                0.0                0.0     -999.0   \n",
       "1      2017   1   1   1                0.0                0.0     -999.0   \n",
       "2      2017   1   1   2                0.0                0.0     -999.0   \n",
       "3      2017   1   1   3                0.0                0.0     -999.0   \n",
       "4      2017   1   1   4                0.0                0.0     -999.0   \n",
       "...     ...  ..  ..  ..                ...                ...        ...   \n",
       "35083  2021   1   1  19                0.0                0.0     -999.0   \n",
       "35084  2021   1   1  20                0.0                0.0     -999.0   \n",
       "35085  2021   1   1  21                0.0                0.0     -999.0   \n",
       "35086  2021   1   1  22                0.0                0.0     -999.0   \n",
       "35087  2021   1   1  23                0.0                0.0     -999.0   \n",
       "\n",
       "       ALLSKY_SRF_ALB   SZA  ALLSKY_SFC_PAR_TOT  ...  ALLSKY_SFC_UVA  \\\n",
       "0              -999.0  90.0                 0.0  ...             0.0   \n",
       "1              -999.0  90.0                 0.0  ...             0.0   \n",
       "2              -999.0  90.0                 0.0  ...             0.0   \n",
       "3              -999.0  90.0                 0.0  ...             0.0   \n",
       "4              -999.0  90.0                 0.0  ...             0.0   \n",
       "...               ...   ...                 ...  ...             ...   \n",
       "35083          -999.0  90.0                 0.0  ...             0.0   \n",
       "35084          -999.0  90.0                 0.0  ...             0.0   \n",
       "35085          -999.0  90.0                 0.0  ...             0.0   \n",
       "35086          -999.0  90.0                 0.0  ...             0.0   \n",
       "35087          -999.0  90.0                 0.0  ...             0.0   \n",
       "\n",
       "       ALLSKY_SFC_UVB  ALLSKY_SFC_UV_INDEX    T2M  QV2M   RH2M  PRECTOTCORR  \\\n",
       "0                 0.0                  0.0  12.05  4.82  54.31          0.0   \n",
       "1                 0.0                  0.0  11.58  4.88  56.19          0.0   \n",
       "2                 0.0                  0.0  11.21  4.88  57.69          0.0   \n",
       "3                 0.0                  0.0  10.82  4.88  59.12          0.0   \n",
       "4                 0.0                  0.0  10.41  4.88  60.62          0.0   \n",
       "...               ...                  ...    ...   ...    ...          ...   \n",
       "35083             0.0                  0.0  12.31  3.36  37.38          0.0   \n",
       "35084             0.0                  0.0  11.62  3.36  39.12          0.0   \n",
       "35085             0.0                  0.0  11.08  3.42  40.56          0.0   \n",
       "35086             0.0                  0.0  10.68  3.36  41.50          0.0   \n",
       "35087             0.0                  0.0  10.34  3.36  41.94          0.0   \n",
       "\n",
       "          PS  WS10M  WS50M  \n",
       "0      98.34   2.89   5.63  \n",
       "1      98.31   2.65   5.07  \n",
       "2      98.30   2.34   4.28  \n",
       "3      98.31   2.00   3.48  \n",
       "4      98.32   1.73   2.94  \n",
       "...      ...    ...    ...  \n",
       "35083  98.50   2.89   4.95  \n",
       "35084  98.51   3.05   5.42  \n",
       "35085  98.51   3.21   5.94  \n",
       "35086  98.49   3.29   6.32  \n",
       "35087  98.47   3.28   6.49  \n",
       "\n",
       "[35088 rows x 21 columns]"
      ]
     },
     "execution_count": 99,
     "metadata": {},
     "output_type": "execute_result"
    }
   ],
   "source": [
    "df1=pd.read_csv(\"pilani_dataset.csv\", header=25)\n",
    "df1"
   ]
  },
  {
   "cell_type": "code",
   "execution_count": 100,
   "metadata": {},
   "outputs": [],
   "source": [
    "df1= df1.drop(columns=['CLRSKY_SFC_SW_DWN','CLRSKY_SFC_PAR_TOT', 'ALLSKY_KT',\t'ALLSKY_SRF_ALB',\t'SZA', 'ALLSKY_SFC_PAR_TOT', 'ALLSKY_SFC_UVA',\t'ALLSKY_SFC_UVB',\t'ALLSKY_SFC_UV_INDEX' ,'RH2M', 'WS10M'])"
   ]
  },
  {
   "cell_type": "code",
   "execution_count": 101,
   "metadata": {},
   "outputs": [],
   "source": [
    "#renaming columns\n",
    "columns= ['Year', 'Month', 'Day', 'Hour', 'Radiation', 'Temperature', 'Precipitation', 'Humidity', 'Pressure', 'Windspeed']\n",
    "df1.columns= columns"
   ]
  },
  {
   "cell_type": "code",
   "execution_count": 102,
   "metadata": {},
   "outputs": [
    {
     "name": "stdout",
     "output_type": "stream",
     "text": [
      "               Year         Month           Day          Hour     Radiation  \\\n",
      "count  35088.000000  35088.000000  35088.000000  35088.000000  35088.000000   \n",
      "mean    2018.502736      6.519152     15.719562     11.500000    216.551719   \n",
      "std        1.119880      3.450595      8.805632      6.922285    291.011280   \n",
      "min     2017.000000      1.000000      1.000000      0.000000      0.000000   \n",
      "25%     2018.000000      4.000000      8.000000      5.750000      0.000000   \n",
      "50%     2019.000000      7.000000     16.000000     11.500000     11.975000   \n",
      "75%     2020.000000     10.000000     23.000000     17.250000    432.927500   \n",
      "max     2021.000000     12.000000     31.000000     23.000000   1027.510000   \n",
      "\n",
      "        Temperature  Precipitation      Humidity      Pressure     Windspeed  \n",
      "count  35088.000000   35088.000000  35088.000000  35088.000000  35088.000000  \n",
      "mean      25.945676       9.043818      0.056517     97.776416      4.047901  \n",
      "std        9.210205       5.662848      0.293343      0.711628      1.988651  \n",
      "min        0.760000       1.160000      0.000000     95.930000      0.020000  \n",
      "25%       18.937500       4.330000      0.000000     97.140000      2.590000  \n",
      "50%       27.220000       7.020000      0.000000     97.790000      3.880000  \n",
      "75%       32.870000      13.980000      0.000000     98.390000      5.280000  \n",
      "max       46.870000      24.480000     11.180000     99.490000     14.780000  \n"
     ]
    }
   ],
   "source": [
    "#step 3\n",
    "print(df1.describe())"
   ]
  },
  {
   "cell_type": "markdown",
   "metadata": {},
   "source": [
    "# 1.Pre-process"
   ]
  },
  {
   "cell_type": "code",
   "execution_count": 103,
   "metadata": {},
   "outputs": [
    {
     "data": {
      "image/png": "[encoded data removed]",
      "text/plain": [
       "<Figure size 1080x1080 with 12 Axes>"
      ]
     },
     "metadata": {
      "needs_background": "light"
     },
     "output_type": "display_data"
    }
   ],
   "source": [
    "df1.hist(figsize=(15,15))\n",
    "plt.show()"
   ]
  },
  {
   "cell_type": "code",
   "execution_count": 104,
   "metadata": {},
   "outputs": [],
   "source": [
    "# scatter plot matrix\n",
    "# from pandas.plotting import scatter_matrix\n",
    "# scatter_matrix(df1)\n",
    "# plt.show()"
   ]
  },
  {
   "cell_type": "code",
   "execution_count": 105,
   "metadata": {},
   "outputs": [
    {
     "name": "stdout",
     "output_type": "stream",
     "text": [
      "The correlation matrix:                         Year         Month           Day          Hour  \\\n",
      "Year           1.000000e+00 -3.642278e-03 -1.170739e-03 -4.313036e-15   \n",
      "Month         -3.642278e-03  1.000000e+00  1.233315e-02 -1.315129e-16   \n",
      "Day           -1.170739e-03  1.233315e-02  1.000000e+00 -3.901665e-17   \n",
      "Hour          -4.313036e-15 -1.315129e-16 -3.901665e-17  1.000000e+00   \n",
      "Radiation     -5.500946e-03 -4.891133e-02 -2.285347e-03 -3.979422e-03   \n",
      "Temperature   -4.403026e-02  7.321372e-02 -5.037638e-03  1.978081e-01   \n",
      "Precipitation  9.446983e-02  2.050796e-01  1.554026e-02 -2.805859e-02   \n",
      "Humidity       2.259025e-02  1.331792e-02  2.554228e-02 -4.299442e-02   \n",
      "Pressure       2.941847e-02 -5.236586e-02  1.224063e-02 -3.470320e-02   \n",
      "Windspeed     -5.360716e-02 -8.846961e-02  3.111774e-02  5.539046e-02   \n",
      "\n",
      "               Radiation  Temperature  Precipitation  Humidity  Pressure  \\\n",
      "Year           -0.005501    -0.044030       0.094470  0.022590  0.029418   \n",
      "Month          -0.048911     0.073214       0.205080  0.013318 -0.052366   \n",
      "Day            -0.002285    -0.005038       0.015540  0.025542  0.012241   \n",
      "Hour           -0.003979     0.197808      -0.028059 -0.042994 -0.034703   \n",
      "Radiation       1.000000     0.512744      -0.005311  0.037020 -0.073203   \n",
      "Temperature     0.512744     1.000000       0.502507  0.085261 -0.770589   \n",
      "Precipitation  -0.005311     0.502507       1.000000  0.270404 -0.747892   \n",
      "Humidity        0.037020     0.085261       0.270404  1.000000 -0.164280   \n",
      "Pressure       -0.073203    -0.770589      -0.747892 -0.164280  1.000000   \n",
      "Windspeed      -0.129672     0.063971       0.108543 -0.015289 -0.205467   \n",
      "\n",
      "               Windspeed  \n",
      "Year           -0.053607  \n",
      "Month          -0.088470  \n",
      "Day             0.031118  \n",
      "Hour            0.055390  \n",
      "Radiation      -0.129672  \n",
      "Temperature     0.063971  \n",
      "Precipitation   0.108543  \n",
      "Humidity       -0.015289  \n",
      "Pressure       -0.205467  \n",
      "Windspeed       1.000000  \n"
     ]
    }
   ],
   "source": [
    "#step 6\n",
    "c=df1.corr(method='pearson')\n",
    "print(\"The correlation matrix: \",c)"
   ]
  },
  {
   "cell_type": "code",
   "execution_count": 106,
   "metadata": {
    "scrolled": true
   },
   "outputs": [
    {
     "data": {
      "image/png": "[encoded data removed]",
      "text/plain": [
       "<Figure size 432x288 with 2 Axes>"
      ]
     },
     "metadata": {
      "needs_background": "light"
     },
     "output_type": "display_data"
    }
   ],
   "source": [
    "#step -7\n",
    "\n",
    "#Correlation map to see how features are correlated with radiation\n",
    "corrmat = df1.corr()\n",
    "plt.subplots()\n",
    "#figsize=(12,9)\n",
    "sns.heatmap(corrmat, vmax=0.9, square=True)\n",
    "plt.show()"
   ]
  },
  {
   "cell_type": "code",
   "execution_count": 107,
   "metadata": {
    "collapsed": true
   },
   "outputs": [
    {
     "name": "stdout",
     "output_type": "stream",
     "text": [
      "       Year  Month  Day  Hour  Radiation  Temperature  Precipitation  \\\n",
      "0      2017      1    1     0        0.0        12.05           4.82   \n",
      "1      2017      1    1     1        0.0        11.58           4.88   \n",
      "2      2017      1    1     2        0.0        11.21           4.88   \n",
      "3      2017      1    1     3        0.0        10.82           4.88   \n",
      "4      2017      1    1     4        0.0        10.41           4.88   \n",
      "...     ...    ...  ...   ...        ...          ...            ...   \n",
      "35083  2021      1    1    19        0.0        12.31           3.36   \n",
      "35084  2021      1    1    20        0.0        11.62           3.36   \n",
      "35085  2021      1    1    21        0.0        11.08           3.42   \n",
      "35086  2021      1    1    22        0.0        10.68           3.36   \n",
      "35087  2021      1    1    23        0.0        10.34           3.36   \n",
      "\n",
      "       Humidity  Pressure  Windspeed  time_in_sec  \n",
      "0           0.0     98.34       5.63            0  \n",
      "1           0.0     98.31       5.07         3600  \n",
      "2           0.0     98.30       4.28         7200  \n",
      "3           0.0     98.31       3.48        10800  \n",
      "4           0.0     98.32       2.94        14400  \n",
      "...         ...       ...        ...          ...  \n",
      "35083       0.0     98.50       4.95        68400  \n",
      "35084       0.0     98.51       5.42        72000  \n",
      "35085       0.0     98.51       5.94        75600  \n",
      "35086       0.0     98.49       6.32        79200  \n",
      "35087       0.0     98.47       6.49        82800  \n",
      "\n",
      "[35088 rows x 11 columns]\n"
     ]
    }
   ],
   "source": [
    "\n",
    "# The time variable is converted into seconds.\n",
    "#the time at which data was collected\n",
    "time=df1[['Hour']].values\n",
    "#print(time[0][0][0:2]) #hour\n",
    "#print(time[0][0][3:5]) #min\n",
    "#print(time[0][0][6:8]) #second\n",
    "\n",
    "i=0\n",
    "TimeX=[]\n",
    "for i in range(len(time)):\n",
    "    temp=(int(time[i])*3600)\n",
    "    TimeX.append(temp)\n",
    "\n",
    "TimeX\n",
    "df1['time_in_sec']=TimeX\n",
    "print(df1)"
   ]
  },
  {
   "cell_type": "code",
   "execution_count": 108,
   "metadata": {},
   "outputs": [
    {
     "data": {
      "image/png": "[encoded data removed]",
      "text/plain": [
       "<Figure size 432x288 with 1 Axes>"
      ]
     },
     "metadata": {
      "needs_background": "light"
     },
     "output_type": "display_data"
    }
   ],
   "source": [
    "\n",
    "# graph is plotted between time and radiation\n",
    "# it comes out as perfectly skewed\n",
    "\n",
    "plt.scatter(df1.time_in_sec,df1.Radiation,color='blue')\n",
    "plt.xlabel(\"time_in_sec\")\n",
    "plt.ylabel(\"Radiation\")\n",
    "plt.title(\"Graph\")\n",
    "plt.show()"
   ]
  },
  {
   "cell_type": "markdown",
   "metadata": {},
   "source": [
    "The p-value for both are 0. \n",
    "We try to play around, and muliply the two values of these two dataframes, and again find least square fits."
   ]
  },
  {
   "cell_type": "code",
   "execution_count": 109,
   "metadata": {},
   "outputs": [
    {
     "name": "stdout",
     "output_type": "stream",
     "text": [
      "========================================================================================\n",
      "                           coef    std err          t      P>|t|      [0.025      0.975]\n",
      "----------------------------------------------------------------------------------------\n",
      "Intercept             -198.3096      4.018    -49.361      0.000    -206.184    -190.435\n",
      "Temperature             15.9979      0.147    109.067      0.000      15.710      16.285\n",
      "Humidity              -272.3897     25.949    -10.497      0.000    -323.250    -221.529\n",
      "Humidity:Temperature     8.9470      0.860     10.401      0.000       7.261      10.633\n",
      "========================================================================================\n"
     ]
    }
   ],
   "source": [
    "# step-12\n",
    "\n",
    "model=smf.ols('Radiation ~ Temperature+ Humidity +Humidity*Temperature', df1) \n",
    "Fitting_results=model.fit() \n",
    "print(Fitting_results.summary().tables[1])"
   ]
  },
  {
   "cell_type": "markdown",
   "metadata": {},
   "source": [
    "The p-values are again 0 , the standard error for Humidity*Temperature is 0.007 . This column appears to be very important."
   ]
  },
  {
   "cell_type": "code",
   "execution_count": 110,
   "metadata": {
    "collapsed": true
   },
   "outputs": [
    {
     "name": "stdout",
     "output_type": "stream",
     "text": [
      "       Year  Month  Day  Hour  Radiation  Temperature  Precipitation  \\\n",
      "0      2017      1    1     0        0.0        12.05           4.82   \n",
      "1      2017      1    1     1        0.0        11.58           4.88   \n",
      "2      2017      1    1     2        0.0        11.21           4.88   \n",
      "3      2017      1    1     3        0.0        10.82           4.88   \n",
      "4      2017      1    1     4        0.0        10.41           4.88   \n",
      "...     ...    ...  ...   ...        ...          ...            ...   \n",
      "35083  2021      1    1    19        0.0        12.31           3.36   \n",
      "35084  2021      1    1    20        0.0        11.62           3.36   \n",
      "35085  2021      1    1    21        0.0        11.08           3.42   \n",
      "35086  2021      1    1    22        0.0        10.68           3.36   \n",
      "35087  2021      1    1    23        0.0        10.34           3.36   \n",
      "\n",
      "       Humidity  Pressure  Windspeed  time_in_sec  Temp_multiply_humid  \n",
      "0           0.0     98.34       5.63            0                  0.0  \n",
      "1           0.0     98.31       5.07         3600                  0.0  \n",
      "2           0.0     98.30       4.28         7200                  0.0  \n",
      "3           0.0     98.31       3.48        10800                  0.0  \n",
      "4           0.0     98.32       2.94        14400                  0.0  \n",
      "...         ...       ...        ...          ...                  ...  \n",
      "35083       0.0     98.50       4.95        68400                  0.0  \n",
      "35084       0.0     98.51       5.42        72000                  0.0  \n",
      "35085       0.0     98.51       5.94        75600                  0.0  \n",
      "35086       0.0     98.49       6.32        79200                  0.0  \n",
      "35087       0.0     98.47       6.49        82800                  0.0  \n",
      "\n",
      "[35088 rows x 12 columns]\n"
     ]
    }
   ],
   "source": [
    "\n",
    "# therefore we make it a new data frame\n",
    "Temp_multiply_humid=df1.Humidity *df1.Temperature\n",
    "df1['Temp_multiply_humid']=Temp_multiply_humid\n",
    "print(df1)"
   ]
  },
  {
   "cell_type": "markdown",
   "metadata": {},
   "source": [
    "Only month and day of month look important, so we create 2 new dataframes named Month and Day_of_Month."
   ]
  },
  {
   "cell_type": "code",
   "execution_count": 111,
   "metadata": {
    "collapsed": true
   },
   "outputs": [],
   "source": [
    "#step 14\n",
    "# df1['Month']=[d.split('/')[0] for d in df1.Data]\n",
    "# df1['Day_of_month']=[d.split('/')[1] for d in df1.Data]\n",
    "# print(df1)"
   ]
  },
  {
   "cell_type": "markdown",
   "metadata": {},
   "source": [
    "the name WindDirection(Degrees) cannot be used because of parenthesis. We can not rename a data frame.\n",
    "So we save its values into a new dataframe."
   ]
  },
  {
   "cell_type": "code",
   "execution_count": 112,
   "metadata": {
    "collapsed": true
   },
   "outputs": [],
   "source": [
    "#step 15\n",
    "# df1['wind_dir'] = df1['WindDirection(Degrees)']\n",
    "# print(df1)"
   ]
  },
  {
   "cell_type": "code",
   "execution_count": 113,
   "metadata": {
    "collapsed": true
   },
   "outputs": [],
   "source": [
    "#step 16\n",
    "#We drop the following columns\n",
    "# df1 = df1.drop(['UNIXTime','Data','TimeSunRise','TimeSunSet','WindDirection(Degrees)'], axis=1)\n",
    "# print(df1)"
   ]
  },
  {
   "cell_type": "code",
   "execution_count": 114,
   "metadata": {
    "collapsed": true
   },
   "outputs": [
    {
     "name": "stdout",
     "output_type": "stream",
     "text": [
      "[ 1  2  3  4  5  6  7  8  9 10 11 12]\n",
      "       Year  Month  Day  Hour  Radiation  Temperature  Precipitation  \\\n",
      "0      2017      0    0     0        0.0        12.05           4.82   \n",
      "1      2017      0    0     1        0.0        11.58           4.88   \n",
      "2      2017      0    0     2        0.0        11.21           4.88   \n",
      "3      2017      0    0     3        0.0        10.82           4.88   \n",
      "4      2017      0    0     4        0.0        10.41           4.88   \n",
      "...     ...    ...  ...   ...        ...          ...            ...   \n",
      "35083  2021      0    0    19        0.0        12.31           3.36   \n",
      "35084  2021      0    0    20        0.0        11.62           3.36   \n",
      "35085  2021      0    0    21        0.0        11.08           3.42   \n",
      "35086  2021      0    0    22        0.0        10.68           3.36   \n",
      "35087  2021      0    0    23        0.0        10.34           3.36   \n",
      "\n",
      "       Humidity  Pressure  Windspeed  time_in_sec  Temp_multiply_humid  \n",
      "0           0.0     98.34       5.63            0                  0.0  \n",
      "1           0.0     98.31       5.07            1                  0.0  \n",
      "2           0.0     98.30       4.28            2                  0.0  \n",
      "3           0.0     98.31       3.48            3                  0.0  \n",
      "4           0.0     98.32       2.94            4                  0.0  \n",
      "...         ...       ...        ...          ...                  ...  \n",
      "35083       0.0     98.50       4.95           19                  0.0  \n",
      "35084       0.0     98.51       5.42           20                  0.0  \n",
      "35085       0.0     98.51       5.94           21                  0.0  \n",
      "35086       0.0     98.49       6.32           22                  0.0  \n",
      "35087       0.0     98.47       6.49           23                  0.0  \n",
      "\n",
      "[35088 rows x 12 columns]\n",
      "[ 0  1  2  3  4  5  6  7  8  9 10 11]\n"
     ]
    }
   ],
   "source": [
    "#Transform the time_in_sec and month columns to integer labels\n",
    "\n",
    "le = preprocessing.LabelEncoder()\n",
    "df1.time_in_sec = le.fit_transform(df1.time_in_sec)\n",
    "print(df1.Month.unique())\n",
    "df1.Month = le.fit_transform(df1.Month)\n",
    "df1.Day=le.fit_transform(df1.Day)\n",
    "print(df1)\n",
    "print(df1.Month.unique())"
   ]
  },
  {
   "cell_type": "code",
   "execution_count": 115,
   "metadata": {},
   "outputs": [
    {
     "name": "stdout",
     "output_type": "stream",
     "text": [
      "Index(['Year', 'Month', 'Day', 'Hour', 'Radiation', 'Temperature',\n",
      "       'Precipitation', 'Humidity', 'Pressure', 'Windspeed', 'time_in_sec',\n",
      "       'Temp_multiply_humid'],\n",
      "      dtype='object')\n"
     ]
    }
   ],
   "source": [
    "\n",
    "#We now check the data-set\n",
    "print(df1.columns)"
   ]
  },
  {
   "cell_type": "code",
   "execution_count": 116,
   "metadata": {},
   "outputs": [
    {
     "name": "stdout",
     "output_type": "stream",
     "text": [
      "The correlation matrix:                               Year         Month           Day          Hour  \\\n",
      "Year                 1.000000e+00 -3.642278e-03 -1.170739e-03 -4.313036e-15   \n",
      "Month               -3.642278e-03  1.000000e+00  1.233315e-02 -1.334798e-16   \n",
      "Day                 -1.170739e-03  1.233315e-02  1.000000e+00 -3.869771e-17   \n",
      "Hour                -4.313036e-15 -1.334798e-16 -3.869771e-17  1.000000e+00   \n",
      "Radiation           -5.500946e-03 -4.891133e-02 -2.285347e-03 -3.979422e-03   \n",
      "Temperature         -4.403026e-02  7.321372e-02 -5.037638e-03  1.978081e-01   \n",
      "Precipitation        9.446983e-02  2.050796e-01  1.554026e-02 -2.805859e-02   \n",
      "Humidity             2.259025e-02  1.331792e-02  2.554228e-02 -4.299442e-02   \n",
      "Pressure             2.941847e-02 -5.236586e-02  1.224063e-02 -3.470320e-02   \n",
      "Windspeed           -5.360716e-02 -8.846961e-02  3.111774e-02  5.539046e-02   \n",
      "time_in_sec         -4.313036e-15 -1.334798e-16 -3.869771e-17  1.000000e+00   \n",
      "Temp_multiply_humid  2.459425e-02  1.887828e-02  2.393981e-02 -3.692914e-02   \n",
      "\n",
      "                     Radiation  Temperature  Precipitation  Humidity  \\\n",
      "Year                 -0.005501    -0.044030       0.094470  0.022590   \n",
      "Month                -0.048911     0.073214       0.205080  0.013318   \n",
      "Day                  -0.002285    -0.005038       0.015540  0.025542   \n",
      "Hour                 -0.003979     0.197808      -0.028059 -0.042994   \n",
      "Radiation             1.000000     0.512744      -0.005311  0.037020   \n",
      "Temperature           0.512744     1.000000       0.502507  0.085261   \n",
      "Precipitation        -0.005311     0.502507       1.000000  0.270404   \n",
      "Humidity              0.037020     0.085261       0.270404  1.000000   \n",
      "Pressure             -0.073203    -0.770589      -0.747892 -0.164280   \n",
      "Windspeed            -0.129672     0.063971       0.108543 -0.015289   \n",
      "time_in_sec          -0.003979     0.197808      -0.028059 -0.042994   \n",
      "Temp_multiply_humid   0.057834     0.109418       0.280864  0.984317   \n",
      "\n",
      "                     Pressure  Windspeed   time_in_sec  Temp_multiply_humid  \n",
      "Year                 0.029418  -0.053607 -4.313036e-15             0.024594  \n",
      "Month               -0.052366  -0.088470 -1.334798e-16             0.018878  \n",
      "Day                  0.012241   0.031118 -3.869771e-17             0.023940  \n",
      "Hour                -0.034703   0.055390  1.000000e+00            -0.036929  \n",
      "Radiation           -0.073203  -0.129672 -3.979422e-03             0.057834  \n",
      "Temperature         -0.770589   0.063971  1.978081e-01             0.109418  \n",
      "Precipitation       -0.747892   0.108543 -2.805859e-02             0.280864  \n",
      "Humidity            -0.164280  -0.015289 -4.299442e-02             0.984317  \n",
      "Pressure             1.000000  -0.205467 -3.470320e-02            -0.181788  \n",
      "Windspeed           -0.205467   1.000000  5.539046e-02            -0.021709  \n",
      "time_in_sec         -0.034703   0.055390  1.000000e+00            -0.036929  \n",
      "Temp_multiply_humid -0.181788  -0.021709 -3.692914e-02             1.000000  \n"
     ]
    }
   ],
   "source": [
    "#step 19\n",
    "c=df1.corr(method='pearson')\n",
    "print(\"The correlation matrix: \",c)"
   ]
  },
  {
   "cell_type": "code",
   "execution_count": 117,
   "metadata": {},
   "outputs": [
    {
     "name": "stdout",
     "output_type": "stream",
     "text": [
      "The correlation matrix:  -0.20546747866380474\n"
     ]
    }
   ],
   "source": [
    "c=df1['Pressure'].corr(df1['Windspeed'])\n",
    "print(\"The correlation matrix: \",c)"
   ]
  },
  {
   "cell_type": "code",
   "execution_count": 118,
   "metadata": {
    "collapsed": true
   },
   "outputs": [],
   "source": [
    "Presssure_multiply_speed=df1.Pressure *df1.Windspeed\n",
    "df1['Presssure_multiply_speed']=Presssure_multiply_speed"
   ]
  },
  {
   "cell_type": "code",
   "execution_count": 119,
   "metadata": {},
   "outputs": [
    {
     "name": "stdout",
     "output_type": "stream",
     "text": [
      "The correlation matrix:  0.013317919269740677\n"
     ]
    }
   ],
   "source": [
    "c=df1['Month'].corr(df1['Humidity'])\n",
    "print(\"The correlation matrix: \",c)"
   ]
  },
  {
   "cell_type": "code",
   "execution_count": 120,
   "metadata": {
    "collapsed": true
   },
   "outputs": [],
   "source": [
    "Month_multiply_Temperature=df1.Temperature *df1.Month\n",
    "df1['Month_multiply_Temperature']=Month_multiply_Temperature"
   ]
  },
  {
   "cell_type": "code",
   "execution_count": 121,
   "metadata": {},
   "outputs": [
    {
     "data": {
      "image/png": "[encoded data removed]",
      "text/plain": [
       "<Figure size 864x648 with 2 Axes>"
      ]
     },
     "metadata": {
      "needs_background": "light"
     },
     "output_type": "display_data"
    }
   ],
   "source": [
    "\n",
    "#Correlation map to see how features are correlated with Radiation\n",
    "corrmat = df1.corr()\n",
    "plt.subplots(figsize=(12,9))\n",
    "sns.heatmap(corrmat, vmax=0.9, square=True)\n",
    "plt.show()"
   ]
  },
  {
   "cell_type": "code",
   "execution_count": 122,
   "metadata": {},
   "outputs": [
    {
     "name": "stdout",
     "output_type": "stream",
     "text": [
      "              Year        Day  Hour   Radiation  Temperature  Precipitation  \\\n",
      "Month                                                                         \n",
      "0      2018.520000  14.880000  11.5  146.712893    13.603843       3.956503   \n",
      "1      2018.513274  13.628319  11.5  194.018352    17.542611       4.222518   \n",
      "2      2018.500000  15.000000  11.5  239.420941    22.834466       5.387856   \n",
      "3      2018.500000  14.500000  11.5  281.745104    30.316250       6.627708   \n",
      "4      2018.500000  15.000000  11.5  290.699321    34.142964       8.066764   \n",
      "5      2018.500000  14.500000  11.5  267.846892    35.638080      13.031267   \n",
      "6      2018.500000  15.000000  11.5  228.982944    33.002712      17.750208   \n",
      "7      2018.500000  15.000000  11.5  221.271290    31.333296      18.138632   \n",
      "8      2018.500000  14.500000  11.5  224.683993    30.336142      14.476260   \n",
      "9      2018.500000  15.000000  11.5  211.264869    27.003438       7.106959   \n",
      "10     2018.500000  14.500000  11.5  151.801222    20.578142       5.518299   \n",
      "11     2018.500000  15.000000  11.5  140.668394    14.792396       3.968374   \n",
      "\n",
      "       Humidity   Pressure  Windspeed  time_in_sec  Temp_multiply_humid  \\\n",
      "Month                                                                     \n",
      "0      0.020377  98.592890   3.637267         11.5             0.300580   \n",
      "1      0.005011  98.482795   4.026729         11.5             0.080136   \n",
      "2      0.027967  98.118565   4.082722         11.5             0.559791   \n",
      "3      0.022639  97.668892   4.560698         11.5             0.621905   \n",
      "4      0.050790  97.314724   4.457883         11.5             1.572452   \n",
      "5      0.105705  96.904090   4.651243         11.5             3.487702   \n",
      "6      0.210185  96.824644   4.428061         11.5             6.804375   \n",
      "7      0.139926  96.968108   4.466388         11.5             4.407326   \n",
      "8      0.066042  97.450337   3.913569         11.5             1.875668   \n",
      "9      0.006186  97.971959   3.266371         11.5             0.171447   \n",
      "10     0.010965  98.420181   3.660965         11.5             0.224119   \n",
      "11     0.007463  98.634530   3.443538         11.5             0.104270   \n",
      "\n",
      "       Presssure_multiply_speed  Month_multiply_Temperature  \n",
      "Month                                                        \n",
      "0                    358.604881                    0.000000  \n",
      "1                    396.393172                   17.542611  \n",
      "2                    400.489062                   45.668931  \n",
      "3                    445.296990                   90.948750  \n",
      "4                    433.645857                  136.571855  \n",
      "5                    450.553588                  178.190399  \n",
      "6                    428.714358                  198.016270  \n",
      "7                    433.082047                  219.333075  \n",
      "8                    381.430191                  242.689139  \n",
      "9                    319.992852                  243.030937  \n",
      "10                   360.290746                  205.781424  \n",
      "11                   339.657832                  162.716354  \n"
     ]
    }
   ],
   "source": [
    "pclass_group=df1.groupby(['Month']).mean()\n",
    "print(pclass_group)"
   ]
  },
  {
   "cell_type": "code",
   "execution_count": 123,
   "metadata": {},
   "outputs": [
    {
     "data": {
      "image/png": "[encoded data removed]",
      "text/plain": [
       "<Figure size 432x288 with 1 Axes>"
      ]
     },
     "metadata": {
      "needs_background": "light"
     },
     "output_type": "display_data"
    }
   ],
   "source": [
    "pclass_group['Radiation'].plot.bar()\n",
    "plt.show()"
   ]
  },
  {
   "cell_type": "code",
   "execution_count": 124,
   "metadata": {},
   "outputs": [
    {
     "data": {
      "text/plain": [
       "<bound method NDFrame.describe of        Year  Month  Day  Hour  Radiation  Temperature  Precipitation  \\\n",
       "0      2017      0    0     0        0.0        12.05           4.82   \n",
       "1      2017      0    0     1        0.0        11.58           4.88   \n",
       "2      2017      0    0     2        0.0        11.21           4.88   \n",
       "3      2017      0    0     3        0.0        10.82           4.88   \n",
       "4      2017      0    0     4        0.0        10.41           4.88   \n",
       "...     ...    ...  ...   ...        ...          ...            ...   \n",
       "35083  2021      0    0    19        0.0        12.31           3.36   \n",
       "35084  2021      0    0    20        0.0        11.62           3.36   \n",
       "35085  2021      0    0    21        0.0        11.08           3.42   \n",
       "35086  2021      0    0    22        0.0        10.68           3.36   \n",
       "35087  2021      0    0    23        0.0        10.34           3.36   \n",
       "\n",
       "       Humidity  Pressure  Windspeed  time_in_sec  Temp_multiply_humid  \\\n",
       "0           0.0     98.34       5.63            0                  0.0   \n",
       "1           0.0     98.31       5.07            1                  0.0   \n",
       "2           0.0     98.30       4.28            2                  0.0   \n",
       "3           0.0     98.31       3.48            3                  0.0   \n",
       "4           0.0     98.32       2.94            4                  0.0   \n",
       "...         ...       ...        ...          ...                  ...   \n",
       "35083       0.0     98.50       4.95           19                  0.0   \n",
       "35084       0.0     98.51       5.42           20                  0.0   \n",
       "35085       0.0     98.51       5.94           21                  0.0   \n",
       "35086       0.0     98.49       6.32           22                  0.0   \n",
       "35087       0.0     98.47       6.49           23                  0.0   \n",
       "\n",
       "       Presssure_multiply_speed  Month_multiply_Temperature  \n",
       "0                      553.6542                         0.0  \n",
       "1                      498.4317                         0.0  \n",
       "2                      420.7240                         0.0  \n",
       "3                      342.1188                         0.0  \n",
       "4                      289.0608                         0.0  \n",
       "...                         ...                         ...  \n",
       "35083                  487.5750                         0.0  \n",
       "35084                  533.9242                         0.0  \n",
       "35085                  585.1494                         0.0  \n",
       "35086                  622.4568                         0.0  \n",
       "35087                  639.0703                         0.0  \n",
       "\n",
       "[35088 rows x 14 columns]>"
      ]
     },
     "execution_count": 124,
     "metadata": {},
     "output_type": "execute_result"
    }
   ],
   "source": [
    "df1.describe"
   ]
  },
  {
   "cell_type": "code",
   "execution_count": 125,
   "metadata": {
    "collapsed": true
   },
   "outputs": [],
   "source": [
    "#We drop the following columns\n",
    "# df1 = df1.drop(['Time'], axis=1)"
   ]
  },
  {
   "cell_type": "code",
   "execution_count": 126,
   "metadata": {},
   "outputs": [],
   "source": [
    "# df1 = df1[(df1 != -999)]\n",
    "# df1"
   ]
  },
  {
   "cell_type": "code",
   "execution_count": 127,
   "metadata": {
    "collapsed": true
   },
   "outputs": [],
   "source": [
    "from sklearn.model_selection import train_test_split\n",
    "X=df1[['Temperature', 'Pressure', 'Humidity', 'Windspeed',\n",
    "      'time_in_sec', 'Temp_multiply_humid', 'Month',\n",
    "       'Day']]\n",
    "\n",
    "\n",
    "Y=df1.Radiation\n",
    "\n",
    "X_train, X_test, Y_train, Y_test= train_test_split(X, Y, random_state= 0)"
   ]
  },
  {
   "cell_type": "code",
   "execution_count": 128,
   "metadata": {},
   "outputs": [
    {
     "name": "stdout",
     "output_type": "stream",
     "text": [
      "Score:  0.577115941961165\n",
      "mean square error 36453.60950343586\n"
     ]
    }
   ],
   "source": [
    "linreg= LinearRegression().fit(X_train, Y_train) \n",
    "print(\"Score: \",linreg.score(X,Y))\n",
    "from sklearn.metrics import mean_squared_error\n",
    "Target_predicted= linreg.predict(X_test) \n",
    "MSE=mean_squared_error(Y_test,Target_predicted) \n",
    "print('mean square error', MSE)"
   ]
  },
  {
   "cell_type": "markdown",
   "metadata": {},
   "source": [
    "# 2. Data Visualization"
   ]
  },
  {
   "cell_type": "code",
   "execution_count": 129,
   "metadata": {},
   "outputs": [
    {
     "data": {
      "image/png": "[encoded data removed]",
      "text/plain": [
       "<Figure size 720x720 with 16 Axes>"
      ]
     },
     "metadata": {
      "needs_background": "light"
     },
     "output_type": "display_data"
    }
   ],
   "source": [
    "df1.hist(figsize=(10,10))\n",
    "plt.show()"
   ]
  },
  {
   "cell_type": "code",
   "execution_count": 130,
   "metadata": {},
   "outputs": [
    {
     "data": {
      "image/png": "[encoded data removed]",
      "text/plain": [
       "<Figure size 432x288 with 1 Axes>"
      ]
     },
     "metadata": {
      "needs_background": "light"
     },
     "output_type": "display_data"
    }
   ],
   "source": [
    "fig, ax = plt.subplots()\n",
    "ax.scatter(x = df1['Windspeed'], y = df1['Radiation'])\n",
    "plt.ylabel('Radiation', fontsize=13)\n",
    "plt.xlabel('Windspeed', fontsize=13)\n",
    "plt.show()"
   ]
  },
  {
   "cell_type": "code",
   "execution_count": 131,
   "metadata": {
    "collapsed": true
   },
   "outputs": [],
   "source": [
    "df1 = df1.drop(df1[(df1['Windspeed']>13)].index)"
   ]
  },
  {
   "cell_type": "code",
   "execution_count": 132,
   "metadata": {},
   "outputs": [
    {
     "name": "stdout",
     "output_type": "stream",
     "text": [
      "(35084, 14)\n"
     ]
    }
   ],
   "source": [
    "print(df1.shape)"
   ]
  },
  {
   "cell_type": "code",
   "execution_count": 133,
   "metadata": {},
   "outputs": [
    {
     "data": {
      "image/png": "[encoded data removed]",
      "text/plain": [
       "<Figure size 432x288 with 1 Axes>"
      ]
     },
     "metadata": {
      "needs_background": "light"
     },
     "output_type": "display_data"
    }
   ],
   "source": [
    "fig, ax = plt.subplots()\n",
    "ax.scatter(x = df1['Day'], y = df1['Radiation'])\n",
    "plt.ylabel('Radiation', fontsize=13)\n",
    "plt.xlabel('Day', fontsize=13)\n",
    "plt.show()"
   ]
  },
  {
   "cell_type": "markdown",
   "metadata": {},
   "source": [
    "# 3. Model Fitting"
   ]
  },
  {
   "cell_type": "code",
   "execution_count": 134,
   "metadata": {},
   "outputs": [],
   "source": [
    "from sklearn.ensemble import RandomForestRegressor\n",
    "from sklearn.tree import DecisionTreeRegressor\n",
    "from sklearn.neural_network import MLPRegressor\n",
    "from sklearn.linear_model import ElasticNet, Lasso, BayesianRidge, LassoLarsIC\n",
    "from sklearn.ensemble import RandomForestRegressor, GradientBoostingRegressor\n",
    "from sklearn.pipeline import make_pipeline\n",
    "from sklearn.preprocessing import RobustScaler\n",
    "from sklearn.base import BaseEstimator, TransformerMixin, RegressorMixin, clone\n",
    "from sklearn.model_selection import KFold, cross_val_score, train_test_split\n",
    "from sklearn.metrics import mean_squared_error\n",
    "from sklearn.neural_network import MLPRegressor\n",
    "import xgboost as xgb\n",
    "from sklearn.svm import SVR\n",
    "from sklearn.metrics import classification_report\n",
    "from sklearn.metrics import accuracy_score"
   ]
  },
  {
   "cell_type": "code",
   "execution_count": 135,
   "metadata": {},
   "outputs": [],
   "source": [
    "# sub = pd.DataFrame()\n",
    "# sub = sub.reset_index()\n",
    "# sub['Radiation'] = Target_predicted\n",
    "# sub.to_csv('submission.csv',index=False)"
   ]
  },
  {
   "cell_type": "code",
   "execution_count": 136,
   "metadata": {},
   "outputs": [
    {
     "name": "stdout",
     "output_type": "stream",
     "text": [
      "(35084, 14)\n"
     ]
    }
   ],
   "source": [
    "print(df1.shape)"
   ]
  },
  {
   "cell_type": "code",
   "execution_count": 137,
   "metadata": {
    "collapsed": true
   },
   "outputs": [],
   "source": [
    "df1.to_csv(\"m_l_data_processed.csv\")"
   ]
  },
  {
   "cell_type": "markdown",
   "metadata": {},
   "source": [
    "# Function to apply new models"
   ]
  },
  {
   "cell_type": "code",
   "execution_count": 174,
   "metadata": {
    "collapsed": true
   },
   "outputs": [],
   "source": [
    "X=df1[['Temperature', 'Pressure', 'Humidity', 'Windspeed',\n",
    "        'time_in_sec', 'Month',\n",
    "      'Day']]\n",
    "Y=df1.Radiation\n",
    "\n",
    "X_train, X_test, Y_train, Y_test= train_test_split(X, Y, random_state= 0)\n",
    "def model_score_error(model):\n",
    "    prepared_model=model.fit(X_train, Y_train)\n",
    "    x=prepared_model.score(X_test,Y_test)\n",
    "    print('Score: ',x)\n",
    "    Target_predicted=prepared_model.predict(X_test) \n",
    "    MSE=mean_squared_error(Y_test,Target_predicted) \n",
    "    print('Mean square error is: ', MSE)\n",
    "#     accuracy_score(Y_test, Target_predicted)\n"
   ]
  },
  {
   "cell_type": "markdown",
   "metadata": {},
   "source": [
    "# Lasso Regression"
   ]
  },
  {
   "cell_type": "code",
   "execution_count": 175,
   "metadata": {
    "collapsed": true
   },
   "outputs": [
    {
     "name": "stdout",
     "output_type": "stream",
     "text": [
      "Score:  0.001284946964132172\n",
      "Mean square error is:  86438.32525842862\n"
     ]
    }
   ],
   "source": [
    "\n",
    "lasso = make_pipeline(RobustScaler(), Lasso(alpha =0.0005, random_state=50))\n",
    "model_score_error(lasso)"
   ]
  },
  {
   "cell_type": "markdown",
   "metadata": {},
   "source": [
    "# Elastic net regression"
   ]
  },
  {
   "cell_type": "code",
   "execution_count": 176,
   "metadata": {
    "collapsed": true
   },
   "outputs": [
    {
     "name": "stdout",
     "output_type": "stream",
     "text": [
      "Score:  0.0012850837392917036\n",
      "Mean square error is:  86438.31342060192\n"
     ]
    }
   ],
   "source": [
    "ENet = make_pipeline(RobustScaler(), ElasticNet(alpha=0.0005, \n",
    "                                                l1_ratio=.9, \n",
    "                                                random_state=3))\n",
    "model_score_error(ENet)"
   ]
  },
  {
   "cell_type": "code",
   "execution_count": 177,
   "metadata": {},
   "outputs": [],
   "source": [
    "# scores\n"
   ]
  },
  {
   "cell_type": "markdown",
   "metadata": {},
   "source": [
    "# Gradient Boosting Regression"
   ]
  },
  {
   "cell_type": "code",
   "execution_count": 178,
   "metadata": {
    "collapsed": true
   },
   "outputs": [
    {
     "name": "stdout",
     "output_type": "stream",
     "text": [
      "Score:  0.9541097118116808\n",
      "Mean square error is:  3971.783187373765\n"
     ]
    }
   ],
   "source": [
    "GBoost = GradientBoostingRegressor(n_estimators=3000, learning_rate=0.05,\n",
    "                                   max_depth=4, max_features='sqrt',\n",
    "                                   min_samples_leaf=15, min_samples_split=10, \n",
    "                                   loss='huber', random_state =5)\n",
    "model_score_error(GBoost)"
   ]
  },
  {
   "cell_type": "code",
   "execution_count": 179,
   "metadata": {},
   "outputs": [],
   "source": [
    "# scores\n"
   ]
  },
  {
   "cell_type": "markdown",
   "metadata": {},
   "source": [
    "# Neural Network Model : Multi Layer Perceptron"
   ]
  },
  {
   "cell_type": "code",
   "execution_count": 180,
   "metadata": {
    "collapsed": true
   },
   "outputs": [
    {
     "name": "stdout",
     "output_type": "stream",
     "text": [
      "Score:  0.9333754928691623\n",
      "Mean square error is:  5766.320233235752\n"
     ]
    },
    {
     "name": "stderr",
     "output_type": "stream",
     "text": [
      "C:\\Users\\Rajvi\\anaconda3\\lib\\site-packages\\sklearn\\neural_network\\_multilayer_perceptron.py:614: ConvergenceWarning: Stochastic Optimizer: Maximum iterations (500) reached and the optimization hasn't converged yet.\n",
      "  warnings.warn(\n"
     ]
    }
   ],
   "source": [
    "\n",
    "MLP = MLPRegressor(activation='relu', alpha=10, batch_size='auto', beta_1=0.9,\n",
    "       beta_2=0.999, early_stopping=False, epsilon=1e-08,\n",
    "       hidden_layer_sizes=(100,), learning_rate='constant',\n",
    "       learning_rate_init=0.001, max_iter=500, momentum=0.9,\n",
    "       nesterovs_momentum=True, power_t=0.5, random_state=None,\n",
    "       shuffle=True, solver='adam', tol=0.0001, validation_fraction=0.1,\n",
    "       verbose=False, warm_start=False)\n",
    "model_score_error(MLP)"
   ]
  },
  {
   "cell_type": "code",
   "execution_count": 181,
   "metadata": {},
   "outputs": [],
   "source": [
    "# scores\n"
   ]
  },
  {
   "cell_type": "markdown",
   "metadata": {},
   "source": [
    "# RandomForest Regression"
   ]
  },
  {
   "cell_type": "code",
   "execution_count": 182,
   "metadata": {
    "collapsed": true
   },
   "outputs": [
    {
     "name": "stdout",
     "output_type": "stream",
     "text": [
      "Score:  0.9359115354298033\n",
      "Mean square error is:  5546.826924248823\n"
     ]
    }
   ],
   "source": [
    "RandomForest = RandomForestRegressor(n_estimators=300, \n",
    "                                     random_state=0).fit(X_train, Y_train)\n",
    "model_score_error(RandomForest)"
   ]
  },
  {
   "cell_type": "code",
   "execution_count": 183,
   "metadata": {},
   "outputs": [],
   "source": [
    "# scores\n"
   ]
  },
  {
   "cell_type": "markdown",
   "metadata": {},
   "source": [
    "# Decision Tree Regressor"
   ]
  },
  {
   "cell_type": "code",
   "execution_count": 184,
   "metadata": {
    "collapsed": true
   },
   "outputs": [
    {
     "name": "stdout",
     "output_type": "stream",
     "text": [
      "Score:  0.9291124479434831\n",
      "Mean square error is:  6135.284797009003\n"
     ]
    }
   ],
   "source": [
    "DTregressor = DecisionTreeRegressor(random_state=0).fit(X_train, Y_train)\n",
    "model_score_error(DTregressor)"
   ]
  },
  {
   "cell_type": "code",
   "execution_count": 185,
   "metadata": {
    "collapsed": true
   },
   "outputs": [],
   "source": [
    "# scores\n"
   ]
  },
  {
   "cell_type": "markdown",
   "metadata": {},
   "source": [
    "# XGBoost"
   ]
  },
  {
   "cell_type": "code",
   "execution_count": 186,
   "metadata": {
    "collapsed": true
   },
   "outputs": [
    {
     "name": "stdout",
     "output_type": "stream",
     "text": [
      "[03:50:02] WARNING: C:/Users/Administrator/workspace/xgboost-win64_release_1.5.0/src/learner.cc:576: \n",
      "Parameters: { \"silent\" } might not be used.\n",
      "\n",
      "  This could be a false alarm, with some parameters getting used by language bindings but\n",
      "  then being mistakenly passed down to XGBoost core, or some parameter actually being used\n",
      "  but getting flagged wrongly here. Please open an issue if you find any such cases.\n",
      "\n",
      "\n",
      "Score:  0.9147331633179818\n",
      "Mean square error is:  7379.805221192458\n"
     ]
    }
   ],
   "source": [
    "\n",
    "model_xgb = xgb.XGBRegressor(colsample_bytree=0.4603, gamma=0.0468, \n",
    "                             learning_rate=0.05, max_depth=3, \n",
    "                             min_child_weight=1.7817, n_estimators=4200,\n",
    "                             reg_alpha=0.4640, reg_lambda=0.8571,\n",
    "                             subsample=0.5213, silent=1,\n",
    "                             nthread=-1)\n",
    "model_score_error(model_xgb)\n"
   ]
  },
  {
   "cell_type": "code",
   "execution_count": 187,
   "metadata": {},
   "outputs": [],
   "source": [
    "# skewness = pd.DataFrame({'Skew' :skewed_feats})\n",
    "# skewness.head(10)\n",
    "# skewness = skewness[abs(skewness) > 0.75]\n",
    "# print(\"There are {} skewed numerical features to Box Cox transform\".format(skewness.shape[0]))\n",
    "# from scipy.special import boxcox1p\n",
    "# skewed_features = skewness.index\n",
    "# lam = 0.15\n",
    "# for feat in skewed_features:\n",
    "#     #all_data[feat] += 1\n",
    "#     df1[feat] = boxcox1p(df1[feat], lam)"
   ]
  },
  {
   "cell_type": "markdown",
   "metadata": {},
   "source": [
    "# Improving Scores"
   ]
  },
  {
   "cell_type": "code",
   "execution_count": 188,
   "metadata": {
    "collapsed": true
   },
   "outputs": [],
   "source": [
    "#Averaging base models\n",
    "class AveragingModels(BaseEstimator, RegressorMixin, TransformerMixin):\n",
    "    def __init__(self, models):\n",
    "        self.models = models\n",
    "    # define clones of the original models to fit the data in\n",
    "    def fit(self, X, y):\n",
    "        self.models_ = [clone(x) for x in self.models]\n",
    "        # Train cloned base models\n",
    "        for model in self.models_:\n",
    "            model.fit(X, y)\n",
    "        return self    \n",
    "    # predictions for cloned models and average them\n",
    "    def predict(self, X):\n",
    "        predictions = np.column_stack([\n",
    "            model.predict(X) for model in self.models_\n",
    "        ])\n",
    "        return np.mean(predictions, axis=1)"
   ]
  },
  {
   "cell_type": "code",
   "execution_count": 189,
   "metadata": {},
   "outputs": [
    {
     "name": "stdout",
     "output_type": "stream",
     "text": [
      "Score:  0.5421236012474548\n",
      "Mean square error is:  39628.99023422355\n"
     ]
    }
   ],
   "source": [
    "# Averaging models Score\n",
    "averaged_models = AveragingModels(models = (ENet, GBoost,lasso))\n",
    "model_score_error(averaged_models)"
   ]
  },
  {
   "cell_type": "code",
   "execution_count": 190,
   "metadata": {
    "collapsed": true
   },
   "outputs": [],
   "source": [
    "# sub = pd.DataFrame()\n",
    "# sub = sub.reset_index()\n",
    "# sub['Radiation'] = Target_predicted\n",
    "# sub.to_csv('submission.csv',index=False)"
   ]
  },
  {
   "cell_type": "markdown",
   "metadata": {},
   "source": [
    "# AdaBoostRegressor"
   ]
  },
  {
   "cell_type": "code",
   "execution_count": 191,
   "metadata": {},
   "outputs": [
    {
     "name": "stdout",
     "output_type": "stream",
     "text": [
      "Score:  0.8955631138011999\n",
      "Mean square error is:  9038.964127744224\n"
     ]
    }
   ],
   "source": [
    "from sklearn.ensemble import AdaBoostRegressor\n",
    "regr_2 = AdaBoostRegressor(DecisionTreeRegressor(max_depth=4),\n",
    "                          n_estimators=300)\n",
    "model_score_error(regr_2)"
   ]
  },
  {
   "cell_type": "code",
   "execution_count": null,
   "metadata": {
    "collapsed": true
   },
   "outputs": [],
   "source": []
  },
  {
   "cell_type": "markdown",
   "metadata": {},
   "source": [
    "#SVR \n",
    "Scores:  -0.412483280096\n",
    "mean square error 138157.512653\n",
    "\\\n",
    "#LinearRegression\n",
    "Score:  0.622775747869\n",
    "mean square error 37383.4435228\n",
    "\\\n",
    "#lasso\n",
    "Score:  0.626780417242\n",
    "mean square error 36505.2740475\n",
    "\\\n",
    "#ENet\n",
    "Score:  0.626785317279\n",
    "mean square error 36504.7947661\n",
    "\\\n",
    "#MLP\n",
    "Score:  0.803590072051\n",
    "mean square error 19211.205887\n",
    "\\\n",
    "#Decision tree \n",
    "score:  0.886921645453\n",
    "mean square error 11060.3958428\n",
    "\\\n",
    "#adaboost\n",
    "Score:  0.928386215211\n",
    "mean square error 1.38872120733\n",
    "\\\n",
    "#RandomForestRegressor \n",
    "Score  0.937633857199\n",
    "mean square error 6180.96544671\n",
    "\\\n",
    "#GBoost\n",
    "Score:  0.983160988421\n",
    "mean square error 0.326538983515\n",
    "\\\n",
    "#XGBRegressor\n",
    "Score:  0.989414581383\n",
    "mean square error 0.0115656619442"
   ]
  }
 ],
 "metadata": {
  "kernelspec": {
   "display_name": "Python 3",
   "language": "python",
   "name": "python3"
  },
  "language_info": {
   "codemirror_mode": {
    "name": "ipython",
    "version": 3
   },
   "file_extension": ".py",
   "mimetype": "text/x-python",
   "name": "python",
   "nbconvert_exporter": "python",
   "pygments_lexer": "ipython3",
   "version": "3.8.8"
  }
 },
 "nbformat": 4,
 "nbformat_minor": 2
}
